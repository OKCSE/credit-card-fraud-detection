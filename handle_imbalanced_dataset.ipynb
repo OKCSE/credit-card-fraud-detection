{
  "nbformat": 4,
  "nbformat_minor": 0,
  "metadata": {
    "colab": {
      "name": "handle_imbalanced_dataset.ipynb",
      "provenance": [],
      "mount_file_id": "1gxxMuv5F3-knxUQ4vnqWrNnKtks0JOIi",
      "authorship_tag": "ABX9TyPSxSMpIXW6+PaSY6ygXLZu"
    },
    "kernelspec": {
      "name": "python3",
      "display_name": "Python 3"
    },
    "language_info": {
      "name": "python"
    }
  },
  "cells": [
    {
      "cell_type": "code",
      "metadata": {
        "colab": {
          "base_uri": "https://localhost:8080/"
        },
        "id": "2jfyo7QjItRK",
        "outputId": "fd615f13-3188-4088-e70d-5b30efc3694d"
      },
      "source": [
        "print(\"Welcome to the Notebook\")"
      ],
      "execution_count": 1,
      "outputs": [
        {
          "output_type": "stream",
          "name": "stdout",
          "text": [
            "Welcome to the Notebook\n"
          ]
        }
      ]
    },
    {
      "cell_type": "code",
      "metadata": {
        "colab": {
          "base_uri": "https://localhost:8080/"
        },
        "id": "Ut7nzjg9JOLn",
        "outputId": "2e1f825b-7122-4da7-eb3d-62c81a307213"
      },
      "source": [
        "print(5+7)"
      ],
      "execution_count": 2,
      "outputs": [
        {
          "output_type": "stream",
          "name": "stdout",
          "text": [
            "12\n"
          ]
        }
      ]
    },
    {
      "cell_type": "code",
      "metadata": {
        "id": "DwwLKXF-JQce"
      },
      "source": [
        ""
      ],
      "execution_count": null,
      "outputs": []
    }
  ]
}